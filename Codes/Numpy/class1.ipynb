{
 "cells": [
  {
   "cell_type": "code",
   "execution_count": 2,
   "id": "a03a724f",
   "metadata": {},
   "outputs": [],
   "source": [
    "import numpy as np"
   ]
  },
  {
   "cell_type": "code",
   "execution_count": null,
   "id": "5403113f",
   "metadata": {},
   "outputs": [
    {
     "name": "stdout",
     "output_type": "stream",
     "text": [
      "<class 'list'>\n",
      "<class 'numpy.ndarray'>\n"
     ]
    }
   ],
   "source": [
    "\n",
    "list = [1, 2, 36667]\n",
    "print(type(list))\n",
    "\n",
    "np_list = np.array(list)\n",
    "print(type(np_list))\n"
   ]
  },
  {
   "cell_type": "code",
   "execution_count": 6,
   "id": "a4b4800a",
   "metadata": {},
   "outputs": [
    {
     "data": {
      "text/plain": [
       "dtype('int32')"
      ]
     },
     "execution_count": 6,
     "metadata": {},
     "output_type": "execute_result"
    }
   ],
   "source": [
    "np_list.dtype"
   ]
  },
  {
   "cell_type": "code",
   "execution_count": 7,
   "id": "1d384b2b",
   "metadata": {},
   "outputs": [
    {
     "data": {
      "text/plain": [
       "(3,)"
      ]
     },
     "execution_count": 7,
     "metadata": {},
     "output_type": "execute_result"
    }
   ],
   "source": [
    "np_list.shape"
   ]
  },
  {
   "cell_type": "code",
   "execution_count": 8,
   "id": "4d377c17",
   "metadata": {},
   "outputs": [
    {
     "data": {
      "text/plain": [
       "1"
      ]
     },
     "execution_count": 8,
     "metadata": {},
     "output_type": "execute_result"
    }
   ],
   "source": [
    "np_list.ndim"
   ]
  },
  {
   "cell_type": "code",
   "execution_count": 11,
   "id": "13f01a6f",
   "metadata": {},
   "outputs": [
    {
     "name": "stdout",
     "output_type": "stream",
     "text": [
      "float64\n"
     ]
    },
    {
     "data": {
      "text/plain": [
       "array([0., 0., 0., 0., 0.])"
      ]
     },
     "execution_count": 11,
     "metadata": {},
     "output_type": "execute_result"
    }
   ],
   "source": [
    "\"\"\" \n",
    "Create an Array with all zeros\n",
    "\n",
    "\"\"\"\n",
    "\n",
    "zeros_np_array = np.zeros(shape= (5,))\n",
    "print(zeros_np_array.dtype)\n",
    "zeros_np_array"
   ]
  },
  {
   "cell_type": "code",
   "execution_count": 14,
   "id": "dec4bcd2",
   "metadata": {},
   "outputs": [
    {
     "name": "stdout",
     "output_type": "stream",
     "text": [
      "int32\n"
     ]
    },
    {
     "data": {
      "text/plain": [
       "array([[1, 1],\n",
       "       [1, 1],\n",
       "       [1, 1],\n",
       "       [1, 1],\n",
       "       [1, 1],\n",
       "       [1, 1],\n",
       "       [1, 1],\n",
       "       [1, 1],\n",
       "       [1, 1],\n",
       "       [1, 1]])"
      ]
     },
     "execution_count": 14,
     "metadata": {},
     "output_type": "execute_result"
    }
   ],
   "source": [
    "\"\"\" \n",
    "Create an Array with all ones\n",
    "\n",
    "\"\"\"\n",
    "\n",
    "ones_np_array = np.ones(shape= (10, 2), \n",
    "                        dtype= int)\n",
    "\n",
    "print(ones_np_array.dtype)\n",
    "ones_np_array"
   ]
  },
  {
   "cell_type": "code",
   "execution_count": 16,
   "id": "ae21a8a0",
   "metadata": {},
   "outputs": [
    {
     "name": "stdout",
     "output_type": "stream",
     "text": [
      "int32\n"
     ]
    },
    {
     "data": {
      "text/plain": [
       "array([15, 15, 15, 15, 15])"
      ]
     },
     "execution_count": 16,
     "metadata": {},
     "output_type": "execute_result"
    }
   ],
   "source": [
    "\"\"\" \n",
    "Create an Array assigned with a specific value\n",
    "\n",
    "\"\"\"\n",
    "\n",
    "np_array_assign_with_specific_values = np.full(\n",
    "    shape= (5,),\n",
    "    dtype= int,\n",
    "    fill_value= 15,\n",
    "    )\n",
    "\n",
    "print(np_array_assign_with_specific_values.dtype)\n",
    "\n",
    "np_array_assign_with_specific_values"
   ]
  },
  {
   "cell_type": "code",
   "execution_count": null,
   "id": "98b5a678",
   "metadata": {},
   "outputs": [
    {
     "name": "stdout",
     "output_type": "stream",
     "text": [
      "[[1. 0. 0. 0.]\n",
      " [0. 1. 0. 0.]\n",
      " [0. 0. 1. 0.]\n",
      " [0. 0. 0. 1.]]\n"
     ]
    }
   ],
   "source": [
    "\"\"\"\n",
    "Create an Identity Matrix\n",
    "[1,0,0]\n",
    "[0,1,0]\n",
    "[0,0,1]\n",
    "I3\n",
    "\"\"\"\n",
    "id_matrix = np.eye(4)\n",
    "print(id_matrix)"
   ]
  },
  {
   "cell_type": "code",
   "execution_count": 20,
   "id": "148256a2",
   "metadata": {},
   "outputs": [
    {
     "data": {
      "text/plain": [
       "array([0., 0., 0., 0., 0.])"
      ]
     },
     "execution_count": 20,
     "metadata": {},
     "output_type": "execute_result"
    }
   ],
   "source": [
    "\"\"\"\n",
    "Create an empty array\n",
    "\"\"\"\n",
    "\n",
    "np_empty_array = np.empty(\n",
    "    shape= (5,)\n",
    ")\n",
    "np_empty_array"
   ]
  },
  {
   "cell_type": "code",
   "execution_count": 24,
   "id": "c5c89ebd",
   "metadata": {},
   "outputs": [
    {
     "name": "stdout",
     "output_type": "stream",
     "text": [
      "float64\n",
      "[0 0 0 0 0]\n",
      "int32\n"
     ]
    }
   ],
   "source": [
    "\"\"\"Type Cast\n",
    "Conversion from one data type to another compatible data type\n",
    "\"\"\"\n",
    "print(np_empty_array.dtype)\n",
    "np_empty_array_int = np_empty_array.astype('int')\n",
    "print(np_empty_array_int)\n",
    "print(np_empty_array_int.dtype)"
   ]
  },
  {
   "cell_type": "code",
   "execution_count": 4,
   "id": "7a4eeb55",
   "metadata": {},
   "outputs": [
    {
     "data": {
      "text/plain": [
       "array([1, 2, 3, 4, 5, 6, 7, 8, 9])"
      ]
     },
     "execution_count": 4,
     "metadata": {},
     "output_type": "execute_result"
    }
   ],
   "source": [
    "\"\"\"Create Sequential array\n",
    "\"\"\"\n",
    "np_seq_array = np.arange(start= 1, stop= 10)\n",
    "np_seq_array"
   ]
  },
  {
   "cell_type": "code",
   "execution_count": 5,
   "id": "9b5317fd",
   "metadata": {},
   "outputs": [
    {
     "data": {
      "text/plain": [
       "array([1, 3, 5, 7, 9])"
      ]
     },
     "execution_count": 5,
     "metadata": {},
     "output_type": "execute_result"
    }
   ],
   "source": [
    "\"\"\"Create Sequential array\n",
    "\"\"\"\n",
    "np_seq1_array = np.arange(start= 1, stop= 10, step= 2)\n",
    "np_seq1_array"
   ]
  },
  {
   "cell_type": "code",
   "execution_count": 6,
   "id": "85fa30b4",
   "metadata": {},
   "outputs": [
    {
     "data": {
      "text/plain": [
       "array([ 0. ,  2.5,  5. ,  7.5, 10. ])"
      ]
     },
     "execution_count": 6,
     "metadata": {},
     "output_type": "execute_result"
    }
   ],
   "source": [
    "\"\"\"Create a linearly spaced array\n",
    "start = 0\n",
    "stop = 10\n",
    "num = 5 \n",
    "\n",
    "0  2.5   5   7.5   10\n",
    "\"\"\"\n",
    "np_lin_spaced_array = np.linspace(start= 0, \n",
    "                                  stop= 10, \n",
    "                                  num= 5  )\n",
    "np_lin_spaced_array"
   ]
  }
 ],
 "metadata": {
  "kernelspec": {
   "display_name": "Python 3",
   "language": "python",
   "name": "python3"
  },
  "language_info": {
   "codemirror_mode": {
    "name": "ipython",
    "version": 3
   },
   "file_extension": ".py",
   "mimetype": "text/x-python",
   "name": "python",
   "nbconvert_exporter": "python",
   "pygments_lexer": "ipython3",
   "version": "3.11.3"
  }
 },
 "nbformat": 4,
 "nbformat_minor": 5
}
